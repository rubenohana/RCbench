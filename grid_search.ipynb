{
 "cells": [
  {
   "cell_type": "markdown",
   "id": "quarterly-tooth",
   "metadata": {
    "id": "quarterly-tooth"
   },
   "source": [
    "This notebook runs a grid search on reservoirs for their best performence"
   ]
  },
  {
   "cell_type": "code",
   "execution_count": 1,
   "id": "4UwMNi42NCFw",
   "metadata": {
    "colab": {
     "base_uri": "https://localhost:8080/"
    },
    "executionInfo": {
     "elapsed": 36,
     "status": "ok",
     "timestamp": 1636558891140,
     "user": {
      "displayName": "Mushegh Rafayelyan",
      "photoUrl": "https://lh3.googleusercontent.com/a-/AOh14Gh8oQZ_Q7ROeHRsipDabCojyOfDLWw7ByPJkGYEMg=s64",
      "userId": "00257562905468944518"
     },
     "user_tz": -240
    },
    "id": "4UwMNi42NCFw",
    "outputId": "cac9ff51-9714-45ca-cd92-5bcf129c4118"
   },
   "outputs": [
    {
     "name": "stdout",
     "output_type": "stream",
     "text": [
      "Wed Nov 10 15:41:30 2021       \n",
      "+-----------------------------------------------------------------------------+\n",
      "| NVIDIA-SMI 495.44       Driver Version: 460.32.03    CUDA Version: 11.2     |\n",
      "|-------------------------------+----------------------+----------------------+\n",
      "| GPU  Name        Persistence-M| Bus-Id        Disp.A | Volatile Uncorr. ECC |\n",
      "| Fan  Temp  Perf  Pwr:Usage/Cap|         Memory-Usage | GPU-Util  Compute M. |\n",
      "|                               |                      |               MIG M. |\n",
      "|===============================+======================+======================|\n",
      "|   0  Tesla P100-PCIE...  Off  | 00000000:00:04.0 Off |                    0 |\n",
      "| N/A   32C    P0    26W / 250W |      0MiB / 16280MiB |      0%      Default |\n",
      "|                               |                      |                  N/A |\n",
      "+-------------------------------+----------------------+----------------------+\n",
      "                                                                               \n",
      "+-----------------------------------------------------------------------------+\n",
      "| Processes:                                                                  |\n",
      "|  GPU   GI   CI        PID   Type   Process name                  GPU Memory |\n",
      "|        ID   ID                                                   Usage      |\n",
      "|=============================================================================|\n",
      "|  No running processes found                                                 |\n",
      "+-----------------------------------------------------------------------------+\n"
     ]
    }
   ],
   "source": [
    "gpu_info = !nvidia-smi\n",
    "gpu_info = '\\n'.join(gpu_info)\n",
    "if gpu_info.find('failed') >= 0:\n",
    "  print('Not connected to a GPU')\n",
    "else:\n",
    "  print(gpu_info)"
   ]
  },
  {
   "cell_type": "code",
   "execution_count": 2,
   "id": "_ObsasiKjw0N",
   "metadata": {
    "colab": {
     "base_uri": "https://localhost:8080/"
    },
    "executionInfo": {
     "elapsed": 15,
     "status": "ok",
     "timestamp": 1636558891140,
     "user": {
      "displayName": "Mushegh Rafayelyan",
      "photoUrl": "https://lh3.googleusercontent.com/a-/AOh14Gh8oQZ_Q7ROeHRsipDabCojyOfDLWw7ByPJkGYEMg=s64",
      "userId": "00257562905468944518"
     },
     "user_tz": -240
    },
    "id": "_ObsasiKjw0N",
    "outputId": "ca7df513-72d8-4487-fa47-210483c371e6"
   },
   "outputs": [
    {
     "name": "stdout",
     "output_type": "stream",
     "text": [
      "Your runtime has 27.3 gigabytes of available RAM\n",
      "\n"
     ]
    }
   ],
   "source": [
    "from psutil import virtual_memory\n",
    "ram_gb = virtual_memory().total / 1e9\n",
    "print('Your runtime has {:.1f} gigabytes of available RAM\\n'.format(ram_gb))"
   ]
  },
  {
   "cell_type": "code",
   "execution_count": 3,
   "id": "HLz0kxKzxNFr",
   "metadata": {
    "colab": {
     "base_uri": "https://localhost:8080/"
    },
    "executionInfo": {
     "elapsed": 25247,
     "status": "ok",
     "timestamp": 1636558916376,
     "user": {
      "displayName": "Mushegh Rafayelyan",
      "photoUrl": "https://lh3.googleusercontent.com/a-/AOh14Gh8oQZ_Q7ROeHRsipDabCojyOfDLWw7ByPJkGYEMg=s64",
      "userId": "00257562905468944518"
     },
     "user_tz": -240
    },
    "id": "HLz0kxKzxNFr",
    "outputId": "e54bc97f-2d0d-490a-ab81-5ea72017115e"
   },
   "outputs": [
    {
     "name": "stdout",
     "output_type": "stream",
     "text": [
      "Requirement already satisfied: pip in /usr/local/lib/python3.7/dist-packages (21.1.3)\n",
      "Collecting pip\n",
      "  Downloading pip-21.3.1-py3-none-any.whl (1.7 MB)\n",
      "\u001b[K     |████████████████████████████████| 1.7 MB 4.2 MB/s \n",
      "\u001b[?25hInstalling collected packages: pip\n",
      "  Attempting uninstall: pip\n",
      "    Found existing installation: pip 21.1.3\n",
      "    Uninstalling pip-21.1.3:\n",
      "      Successfully uninstalled pip-21.1.3\n",
      "Successfully installed pip-21.3.1\n",
      "Looking in links: https://storage.googleapis.com/jax-releases/jax_releases.html\n",
      "Requirement already satisfied: jax[cuda111] in /usr/local/lib/python3.7/dist-packages (0.2.21)\n",
      "Collecting jax[cuda111]\n",
      "  Downloading jax-0.2.24.tar.gz (786 kB)\n",
      "     |████████████████████████████████| 786 kB 4.3 MB/s            \n",
      "\u001b[?25h  Preparing metadata (setup.py) ... \u001b[?25l\u001b[?25hdone\n",
      "\u001b[33mWARNING: jax 0.2.24 does not provide the extra 'cuda111'\u001b[0m\n",
      "Requirement already satisfied: absl-py in /usr/local/lib/python3.7/dist-packages (from jax[cuda111]) (0.12.0)\n",
      "Requirement already satisfied: numpy>=1.18 in /usr/local/lib/python3.7/dist-packages (from jax[cuda111]) (1.19.5)\n",
      "Requirement already satisfied: opt_einsum in /usr/local/lib/python3.7/dist-packages (from jax[cuda111]) (3.3.0)\n",
      "Requirement already satisfied: scipy>=1.2.1 in /usr/local/lib/python3.7/dist-packages (from jax[cuda111]) (1.4.1)\n",
      "Requirement already satisfied: typing_extensions in /usr/local/lib/python3.7/dist-packages (from jax[cuda111]) (3.10.0.2)\n",
      "Requirement already satisfied: six in /usr/local/lib/python3.7/dist-packages (from absl-py->jax[cuda111]) (1.15.0)\n",
      "Building wheels for collected packages: jax\n",
      "  Building wheel for jax (setup.py) ... \u001b[?25l\u001b[?25hdone\n",
      "  Created wheel for jax: filename=jax-0.2.24-py3-none-any.whl size=903112 sha256=4bbf244d73aceeaf1094a01e7ec669c18ba659c5c388434b9672b5376a4a4c15\n",
      "  Stored in directory: /root/.cache/pip/wheels/28/a9/0f/3497740c85f6e1de8f4d291fd2f77d046d66a87620143d0d0e\n",
      "Successfully built jax\n",
      "Installing collected packages: jax\n",
      "  Attempting uninstall: jax\n",
      "    Found existing installation: jax 0.2.21\n",
      "    Uninstalling jax-0.2.21:\n",
      "      Successfully uninstalled jax-0.2.21\n",
      "Successfully installed jax-0.2.24\n",
      "\u001b[33mWARNING: Running pip as the 'root' user can result in broken permissions and conflicting behaviour with the system package manager. It is recommended to use a virtual environment instead: https://pip.pypa.io/warnings/venv\u001b[0m\n",
      "Collecting flax\n",
      "  Downloading flax-0.3.6-py3-none-any.whl (207 kB)\n",
      "     |████████████████████████████████| 207 kB 4.2 MB/s            \n",
      "\u001b[?25hCollecting optax\n",
      "  Downloading optax-0.0.9-py3-none-any.whl (118 kB)\n",
      "     |████████████████████████████████| 118 kB 73.5 MB/s            \n",
      "\u001b[?25hRequirement already satisfied: jax>=0.2.21 in /usr/local/lib/python3.7/dist-packages (from flax) (0.2.24)\n",
      "Requirement already satisfied: numpy>=1.12 in /usr/local/lib/python3.7/dist-packages (from flax) (1.19.5)\n",
      "Requirement already satisfied: matplotlib in /usr/local/lib/python3.7/dist-packages (from flax) (3.2.2)\n",
      "Requirement already satisfied: msgpack in /usr/local/lib/python3.7/dist-packages (from flax) (1.0.2)\n",
      "Requirement already satisfied: typing-extensions in /usr/local/lib/python3.7/dist-packages (from jax>=0.2.21->flax) (3.10.0.2)\n",
      "Requirement already satisfied: scipy>=1.2.1 in /usr/local/lib/python3.7/dist-packages (from jax>=0.2.21->flax) (1.4.1)\n",
      "Requirement already satisfied: absl-py in /usr/local/lib/python3.7/dist-packages (from jax>=0.2.21->flax) (0.12.0)\n",
      "Requirement already satisfied: opt-einsum in /usr/local/lib/python3.7/dist-packages (from jax>=0.2.21->flax) (3.3.0)\n",
      "Requirement already satisfied: pyparsing!=2.0.4,!=2.1.2,!=2.1.6,>=2.0.1 in /usr/local/lib/python3.7/dist-packages (from matplotlib->flax) (2.4.7)\n",
      "Requirement already satisfied: kiwisolver>=1.0.1 in /usr/local/lib/python3.7/dist-packages (from matplotlib->flax) (1.3.2)\n",
      "Requirement already satisfied: cycler>=0.10 in /usr/local/lib/python3.7/dist-packages (from matplotlib->flax) (0.11.0)\n",
      "Requirement already satisfied: python-dateutil>=2.1 in /usr/local/lib/python3.7/dist-packages (from matplotlib->flax) (2.8.2)\n",
      "Requirement already satisfied: jaxlib>=0.1.37 in /usr/local/lib/python3.7/dist-packages (from optax->flax) (0.1.71+cuda111)\n",
      "Collecting chex>=0.0.4\n",
      "  Downloading chex-0.0.8-py3-none-any.whl (57 kB)\n",
      "     |████████████████████████████████| 57 kB 5.1 MB/s             \n",
      "\u001b[?25hRequirement already satisfied: six in /usr/local/lib/python3.7/dist-packages (from absl-py->jax>=0.2.21->flax) (1.15.0)\n",
      "Requirement already satisfied: toolz>=0.9.0 in /usr/local/lib/python3.7/dist-packages (from chex>=0.0.4->optax->flax) (0.11.1)\n",
      "Requirement already satisfied: dm-tree>=0.1.5 in /usr/local/lib/python3.7/dist-packages (from chex>=0.0.4->optax->flax) (0.1.6)\n",
      "Requirement already satisfied: flatbuffers<3.0,>=1.12 in /usr/local/lib/python3.7/dist-packages (from jaxlib>=0.1.37->optax->flax) (2.0)\n",
      "Installing collected packages: chex, optax, flax\n",
      "Successfully installed chex-0.0.8 flax-0.3.6 optax-0.0.9\n",
      "\u001b[33mWARNING: Running pip as the 'root' user can result in broken permissions and conflicting behaviour with the system package manager. It is recommended to use a virtual environment instead: https://pip.pypa.io/warnings/venv\u001b[0m\n",
      "Cloning into 'jacho'...\n",
      "remote: Enumerating objects: 174, done.\u001b[K\n",
      "remote: Counting objects: 100% (174/174), done.\u001b[K\n",
      "remote: Compressing objects: 100% (108/108), done.\u001b[K\n",
      "remote: Total 174 (delta 73), reused 131 (delta 46), pack-reused 0\u001b[K\n",
      "Receiving objects: 100% (174/174), 1.78 MiB | 7.83 MiB/s, done.\n",
      "Resolving deltas: 100% (73/73), done.\n",
      "/content/jacho\n",
      "Processing /content/jacho\n",
      "  Installing build dependencies ... \u001b[?25l\u001b[?25hdone\n",
      "  Getting requirements to build wheel ... \u001b[?25l\u001b[?25hdone\n",
      "  Preparing metadata (pyproject.toml) ... \u001b[?25l\u001b[?25hdone\n",
      "Collecting numpy<2.0.0,>=1.20.3\n",
      "  Downloading numpy-1.21.4-cp37-cp37m-manylinux_2_12_x86_64.manylinux2010_x86_64.whl (15.7 MB)\n",
      "     |████████████████████████████████| 15.7 MB 4.2 MB/s            \n",
      "\u001b[?25hRequirement already satisfied: flax<0.4.0,>=0.3.4 in /usr/local/lib/python3.7/dist-packages (from jacho==0.1.0) (0.3.6)\n",
      "Requirement already satisfied: jax<0.3.0,>=0.2.13 in /usr/local/lib/python3.7/dist-packages (from jacho==0.1.0) (0.2.24)\n",
      "Requirement already satisfied: matplotlib in /usr/local/lib/python3.7/dist-packages (from flax<0.4.0,>=0.3.4->jacho==0.1.0) (3.2.2)\n",
      "Requirement already satisfied: msgpack in /usr/local/lib/python3.7/dist-packages (from flax<0.4.0,>=0.3.4->jacho==0.1.0) (1.0.2)\n",
      "Requirement already satisfied: optax in /usr/local/lib/python3.7/dist-packages (from flax<0.4.0,>=0.3.4->jacho==0.1.0) (0.0.9)\n",
      "Requirement already satisfied: opt-einsum in /usr/local/lib/python3.7/dist-packages (from jax<0.3.0,>=0.2.13->jacho==0.1.0) (3.3.0)\n",
      "Requirement already satisfied: absl-py in /usr/local/lib/python3.7/dist-packages (from jax<0.3.0,>=0.2.13->jacho==0.1.0) (0.12.0)\n",
      "Requirement already satisfied: scipy>=1.2.1 in /usr/local/lib/python3.7/dist-packages (from jax<0.3.0,>=0.2.13->jacho==0.1.0) (1.4.1)\n",
      "Requirement already satisfied: typing-extensions in /usr/local/lib/python3.7/dist-packages (from jax<0.3.0,>=0.2.13->jacho==0.1.0) (3.10.0.2)\n",
      "Requirement already satisfied: six in /usr/local/lib/python3.7/dist-packages (from absl-py->jax<0.3.0,>=0.2.13->jacho==0.1.0) (1.15.0)\n",
      "Requirement already satisfied: cycler>=0.10 in /usr/local/lib/python3.7/dist-packages (from matplotlib->flax<0.4.0,>=0.3.4->jacho==0.1.0) (0.11.0)\n",
      "Requirement already satisfied: kiwisolver>=1.0.1 in /usr/local/lib/python3.7/dist-packages (from matplotlib->flax<0.4.0,>=0.3.4->jacho==0.1.0) (1.3.2)\n",
      "Requirement already satisfied: python-dateutil>=2.1 in /usr/local/lib/python3.7/dist-packages (from matplotlib->flax<0.4.0,>=0.3.4->jacho==0.1.0) (2.8.2)\n",
      "Requirement already satisfied: pyparsing!=2.0.4,!=2.1.2,!=2.1.6,>=2.0.1 in /usr/local/lib/python3.7/dist-packages (from matplotlib->flax<0.4.0,>=0.3.4->jacho==0.1.0) (2.4.7)\n",
      "Requirement already satisfied: jaxlib>=0.1.37 in /usr/local/lib/python3.7/dist-packages (from optax->flax<0.4.0,>=0.3.4->jacho==0.1.0) (0.1.71+cuda111)\n",
      "Requirement already satisfied: chex>=0.0.4 in /usr/local/lib/python3.7/dist-packages (from optax->flax<0.4.0,>=0.3.4->jacho==0.1.0) (0.0.8)\n",
      "Requirement already satisfied: dm-tree>=0.1.5 in /usr/local/lib/python3.7/dist-packages (from chex>=0.0.4->optax->flax<0.4.0,>=0.3.4->jacho==0.1.0) (0.1.6)\n",
      "Requirement already satisfied: toolz>=0.9.0 in /usr/local/lib/python3.7/dist-packages (from chex>=0.0.4->optax->flax<0.4.0,>=0.3.4->jacho==0.1.0) (0.11.1)\n",
      "Requirement already satisfied: flatbuffers<3.0,>=1.12 in /usr/local/lib/python3.7/dist-packages (from jaxlib>=0.1.37->optax->flax<0.4.0,>=0.3.4->jacho==0.1.0) (2.0)\n",
      "Building wheels for collected packages: jacho\n",
      "  Building wheel for jacho (pyproject.toml) ... \u001b[?25l\u001b[?25hdone\n",
      "  Created wheel for jacho: filename=jacho-0.1.0-py3-none-any.whl size=12937 sha256=f7d3f380ecf02c1f022569db8ad638153e65fd7bd8ee9e8e0b63e9e6ce02d3cf\n",
      "  Stored in directory: /tmp/pip-ephem-wheel-cache-v4dsl9at/wheels/61/26/32/6d61149a51988be3362286da046fa8b275c16b82da60b6e32b\n",
      "Successfully built jacho\n",
      "Installing collected packages: numpy, jacho\n",
      "  Attempting uninstall: numpy\n",
      "    Found existing installation: numpy 1.19.5\n",
      "    Uninstalling numpy-1.19.5:\n",
      "      Successfully uninstalled numpy-1.19.5\n",
      "\u001b[31mERROR: pip's dependency resolver does not currently take into account all the packages that are installed. This behaviour is the source of the following dependency conflicts.\n",
      "datascience 0.10.6 requires folium==0.2.1, but you have folium 0.8.3 which is incompatible.\n",
      "albumentations 0.1.12 requires imgaug<0.2.7,>=0.2.5, but you have imgaug 0.2.9 which is incompatible.\u001b[0m\n",
      "Successfully installed jacho-0.1.0 numpy-1.21.4\n",
      "\u001b[33mWARNING: Running pip as the 'root' user can result in broken permissions and conflicting behaviour with the system package manager. It is recommended to use a virtual environment instead: https://pip.pypa.io/warnings/venv\u001b[0m\n"
     ]
    }
   ],
   "source": [
    "!pip install --upgrade pip # To support manylinux2010 wheels\n",
    "!pip install --upgrade \"jax[cuda111]\" -f https://storage.googleapis.com/jax-releases/jax_releases.html  # GPU\n",
    "!pip install flax\n",
    "!git clone https://github.com/GJBoth/jacho.git\n",
    "%cd jacho\n",
    "!sudo pip install . "
   ]
  },
  {
   "cell_type": "code",
   "execution_count": 4,
   "id": "8bd760c1-1572-49a1-a829-85f1ef69108a",
   "metadata": {
    "executionInfo": {
     "elapsed": 1307,
     "status": "ok",
     "timestamp": 1636558917656,
     "user": {
      "displayName": "Mushegh Rafayelyan",
      "photoUrl": "https://lh3.googleusercontent.com/a-/AOh14Gh8oQZ_Q7ROeHRsipDabCojyOfDLWw7ByPJkGYEMg=s64",
      "userId": "00257562905468944518"
     },
     "user_tz": -240
    },
    "id": "8bd760c1-1572-49a1-a829-85f1ef69108a"
   },
   "outputs": [],
   "source": [
    "from jacho.layers.reservoirs import RandomReservoir, StructuredTransform, FastStructuredTransform, SparseReservoir\n",
    "from jacho.models.generic import GenericEchoState\n",
    "from jacho.layers.output import Residual\n",
    "from jacho.training.training import ridge\n",
    "from jacho.data.KS import KS\n",
    "\n",
    "from jax import random\n",
    "import numpy as np\n",
    "import jax.numpy as jnp\n",
    "from jax import jit\n",
    "from flax import linen as nn\n",
    "\n",
    "import matplotlib.pyplot as plt\n",
    "\n",
    "key = random.PRNGKey(42)\n",
    "\n",
    "from jax.interpreters import xla\n",
    "\n",
    "import itertools"
   ]
  },
  {
   "cell_type": "code",
   "execution_count": 2,
   "id": "F3xhGOK_LUJg",
   "metadata": {
    "colab": {
     "base_uri": "https://localhost:8080/"
    },
    "executionInfo": {
     "elapsed": 29237,
     "status": "ok",
     "timestamp": 1636537959287,
     "user": {
      "displayName": "Mushegh Rafayelyan",
      "photoUrl": "https://lh3.googleusercontent.com/a-/AOh14Gh8oQZ_Q7ROeHRsipDabCojyOfDLWw7ByPJkGYEMg=s64",
      "userId": "00257562905468944518"
     },
     "user_tz": -240
    },
    "id": "F3xhGOK_LUJg",
    "outputId": "112cdf37-b1ca-474f-82a8-556a2542b40e"
   },
   "outputs": [
    {
     "name": "stdout",
     "output_type": "stream",
     "text": [
      "Mounted at /content/drive\n"
     ]
    }
   ],
   "source": [
    "from google.colab import drive\n",
    "drive.mount('/content/drive')"
   ]
  },
  {
   "cell_type": "code",
   "execution_count": 3,
   "id": "-GRbomkvLapd",
   "metadata": {
    "colab": {
     "base_uri": "https://localhost:8080/"
    },
    "executionInfo": {
     "elapsed": 578,
     "status": "ok",
     "timestamp": 1636537968837,
     "user": {
      "displayName": "Mushegh Rafayelyan",
      "photoUrl": "https://lh3.googleusercontent.com/a-/AOh14Gh8oQZ_Q7ROeHRsipDabCojyOfDLWw7ByPJkGYEMg=s64",
      "userId": "00257562905468944518"
     },
     "user_tz": -240
    },
    "id": "-GRbomkvLapd",
    "outputId": "516dccc7-fc7b-44d6-ea5b-6f01bd5cbed6"
   },
   "outputs": [
    {
     "name": "stdout",
     "output_type": "stream",
     "text": [
      "/\n",
      "[Errno 2] No such file or directory: 'drive/MyDrive/Colab_Notebooks'\n",
      "/\n"
     ]
    }
   ],
   "source": [
    "%cd ..\n",
    "%cd drive/MyDrive/Colab_Notebooks"
   ]
  },
  {
   "cell_type": "markdown",
   "id": "fcdf537b-66a5-49d0-aeaf-79407ed13d29",
   "metadata": {
    "id": "fcdf537b-66a5-49d0-aeaf-79407ed13d29"
   },
   "source": [
    "# Making data"
   ]
  },
  {
   "cell_type": "code",
   "execution_count": 5,
   "id": "soviet-affairs",
   "metadata": {
    "executionInfo": {
     "elapsed": 906,
     "status": "ok",
     "timestamp": 1636558918986,
     "user": {
      "displayName": "Mushegh Rafayelyan",
      "photoUrl": "https://lh3.googleusercontent.com/a-/AOh14Gh8oQZ_Q7ROeHRsipDabCojyOfDLWw7ByPJkGYEMg=s64",
      "userId": "00257562905468944518"
     },
     "user_tz": -240
    },
    "id": "soviet-affairs"
   },
   "outputs": [],
   "source": [
    "# Setting up our dataset; similar to jonathans\n",
    "L = 22 / (2 * np.pi)  # length\n",
    "N = 32  # space discretization step\n",
    "dt = 0.25  # time discretization step\n",
    "N_train = 10000\n",
    "N_test = 1000\n",
    "N_init = 1000  # remove the initial points\n",
    "tend = (N_train + N_test + N_init - 1) * dt\n",
    "\n",
    "np.random.seed(2)\n",
    "dns = KS(L=L, N=N, dt=dt, tend=tend)\n",
    "dns.simulate()"
   ]
  },
  {
   "cell_type": "code",
   "execution_count": 6,
   "id": "reliable-russell",
   "metadata": {
    "executionInfo": {
     "elapsed": 6,
     "status": "ok",
     "timestamp": 1636558918987,
     "user": {
      "displayName": "Mushegh Rafayelyan",
      "photoUrl": "https://lh3.googleusercontent.com/a-/AOh14Gh8oQZ_Q7ROeHRsipDabCojyOfDLWw7ByPJkGYEMg=s64",
      "userId": "00257562905468944518"
     },
     "user_tz": -240
    },
    "id": "reliable-russell"
   },
   "outputs": [],
   "source": [
    "# Prepping train and test matrices\n",
    "# inputs need to be size [time_steps, samples, spatial_points]\n",
    "# i.e. here they are [10000, 1, 100]\n",
    "u = np.expand_dims(dns.uu, axis=1)\n",
    "_, u_train, u_test = np.split(u / np.sqrt(N), \n",
    "                                     [N_init, \n",
    "                                     (N_init + N_train)], axis=0)"
   ]
  },
  {
   "cell_type": "markdown",
   "id": "TyPiVBJsDINN",
   "metadata": {
    "id": "TyPiVBJsDINN"
   },
   "source": [
    "# Runing grid searchs"
   ]
  },
  {
   "cell_type": "code",
   "execution_count": null,
   "id": "68AnFLu-UFi4",
   "metadata": {
    "id": "68AnFLu-UFi4"
   },
   "outputs": [],
   "source": [
    "# Setting up random model\n",
    "n_reservoir = 2000\n",
    "n_out = u_train.shape[-1]\n",
    "norm_factor = jnp.sqrt(n_out / n_reservoir)\n",
    "output_layer_args = (norm_factor, )\n",
    "\n",
    "def grid_search(reservoir_type, grid_params):\n",
    "  params_list = []\n",
    "  errors_sum = []\n",
    "  for x in itertools.product(*grid_params.values()):\n",
    "\n",
    "    model = GenericEchoState(n_reservoir, reservoir_type, x, n_out, Residual, \n",
    "                             output_layer_args)\n",
    "\n",
    "    state = model.initialize_state(key, n_reservoir)\n",
    "    params = model.init(key, state, u_train[0]) # initializing the parameters and state\n",
    "\n",
    "    # Running reservoir\n",
    "    # new_state, intermediate_states = model.apply(params, state, u_train, method=model.run_reservoir)\n",
    "\n",
    "    # Training - currently runs the reservoir as well but should change.\n",
    "    end_of_train_state, params = ridge(model, params, state, u_train, renorm_factor=norm_factor, alpha=1e-2, n_init=50)\n",
    "\n",
    "    # Predicting\n",
    "    n_predict_steps = N_test\n",
    "    end_of_predict_state, (prediction, _) = model.apply(params, end_of_train_state, u_train[-1], n_predict_steps)\n",
    "    errors_sum += [np.sum(abs(u_test.squeeze().T - prediction.squeeze().T), axis=0)]\n",
    "    params_list += [x]\n",
    "\n",
    "    xla._xla_callable.cache_clear()\n",
    "    del state, params, end_of_predict_state, prediction\n",
    "  return params_list, errors_sum"
   ]
  },
  {
   "cell_type": "code",
   "execution_count": null,
   "id": "BAL1o0QaJkaS",
   "metadata": {
    "colab": {
     "background_save": true
    },
    "id": "BAL1o0QaJkaS"
   },
   "outputs": [],
   "source": [
    "grid_params = {'input_scale': np.linspace(0.1, 1.1, 10),\n",
    "               'reservoir_scale': np.linspace(0.1, 1.1, 10),\n",
    "               'bias_scale': np.linspace(0.3, 4.5, 22)}\n",
    "params_list, sum_errors = grid_search(RandomReservoir, grid_params)\n",
    "np.save(\"RR_gridsearch_error.npy\", np.array(sum_errors))\n",
    "np.save(\"RR_gridsearch_params.npy\", np.array(params_list))"
   ]
  },
  {
   "cell_type": "code",
   "execution_count": null,
   "id": "c_RVhFh0Lhxk",
   "metadata": {
    "executionInfo": {
     "elapsed": 7,
     "status": "ok",
     "timestamp": 1636533355545,
     "user": {
      "displayName": "Mushegh Rafayelyan",
      "photoUrl": "https://lh3.googleusercontent.com/a-/AOh14Gh8oQZ_Q7ROeHRsipDabCojyOfDLWw7ByPJkGYEMg=s64",
      "userId": "00257562905468944518"
     },
     "user_tz": -240
    },
    "id": "c_RVhFh0Lhxk"
   },
   "outputs": [],
   "source": [
    "grid_params = {'input_scale': np.linspace(0.1, 1.1, 10),\n",
    "               'reservoir_scale': np.linspace(0.1, 1.1, 10),\n",
    "               'bias_scale': np.linspace(0.3, 4.5, 22)}\n",
    "params_list, sum_errors = grid_search(StructuredTransform, grid_params)\n",
    "np.save(\"ST_gridsearch_error.npy\", np.array(sum_errors))\n",
    "np.save(\"ST_gridsearch_params.npy\", np.array(params_list))"
   ]
  },
  {
   "cell_type": "code",
   "execution_count": null,
   "id": "9CniXgYMLiBO",
   "metadata": {
    "colab": {
     "background_save": true
    },
    "id": "9CniXgYMLiBO"
   },
   "outputs": [],
   "source": [
    "grid_params = {'input_scale': np.linspace(0.1, 1.1, 10),\n",
    "               'reservoir_scale': np.linspace(0.1, 1.1, 10),\n",
    "               'bias_scale': np.linspace(0.3, 4.5, 22)}\n",
    "params_list, sum_errors = grid_search(FastStructuredTransform, grid_params)\n",
    "np.save(\"FST_gridsearch_error.npy\", np.array(sum_errors))\n",
    "np.save(\"FST_gridsearch_params.npy\", np.array(params_list))"
   ]
  },
  {
   "cell_type": "code",
   "execution_count": null,
   "id": "uAte0yt0MHx9",
   "metadata": {
    "id": "uAte0yt0MHx9"
   },
   "outputs": [],
   "source": [
    "grid_params = {'sparsity_level': np.array([0.1])\n",
    "               'input_scale': np.linspace(0.1, 1.1, 10),\n",
    "               'reservoir_scale': np.linspace(0.1, 1.1, 10),\n",
    "               'bias_scale': np.linspace(0.3, 4.5, 22)}\n",
    "params_list, sum_errors = grid_search(SparseReservoir, grid_params)\n",
    "np.save(\"SparseR_gridsearch_error.npy\", np.array(sum_errors))\n",
    "np.save(\"SparseR_gridsearch_params.npy\", np.array(params_list))"
   ]
  },
  {
   "cell_type": "code",
   "execution_count": 14,
   "id": "Upkp_niS3isj",
   "metadata": {
    "executionInfo": {
     "elapsed": 566,
     "status": "ok",
     "timestamp": 1636559913309,
     "user": {
      "displayName": "Mushegh Rafayelyan",
      "photoUrl": "https://lh3.googleusercontent.com/a-/AOh14Gh8oQZ_Q7ROeHRsipDabCojyOfDLWw7ByPJkGYEMg=s64",
      "userId": "00257562905468944518"
     },
     "user_tz": -240
    },
    "id": "Upkp_niS3isj"
   },
   "outputs": [],
   "source": []
  },
  {
   "cell_type": "code",
   "execution_count": null,
   "id": "02zwavjw73yF",
   "metadata": {
    "id": "02zwavjw73yF"
   },
   "outputs": [],
   "source": [
    "from jacho.recurrent_kernel import RecurrentKernel, erf_kernel, train\n",
    "n_out = u_train.shape[-1]\n",
    "norm_factor = 1.1 * jnp.sqrt(n_out / n_reservoir)\n",
    "output_layer_args = (norm_factor, )\n",
    "key = random.PRNGKey(42)\n",
    "params = model.init(key, u_train.squeeze())\n",
    "\n",
    "grid_params = {'input_scale': np.linspace(0.2, 1.1, 10),\n",
    "               'reservoir_scale': np.linspace(0.2, 1.1, 10),\n",
    "               'bias_scale': np.linspace(0.5, 5, 19)}\n",
    "params_list = []\n",
    "errors_sum = []\n",
    "for x in itertools.product(*grid_params.values()):\n",
    "  model = RecurrentKernel(erf_kernel, 50, 0.11, x)\n",
    "\n",
    "  # forward pass to get kernel etc\n",
    "  model.apply(params, u_train.squeeze(), method=model.train_kernel);\n",
    "  \n",
    "  alpha = 1e-4\n",
    "  error_sum = np.nan\n",
    "  while np.isnan(error_sum):\n",
    "    model_state = train(model, params, u_train.squeeze(), alpha=alpha)\n",
    "    prediction = model.apply(params, u_train.squeeze(), model_state, length=N_test, method=model.predict)\n",
    "    error_sum = np.sum(abs(u_test.squeeze()[:500].T - prediction.squeeze()[:500].T))\n",
    "    alpha = 5*alpha\n",
    "  errors_sum += [np.sum(abs(u_test.squeeze().T - prediction.squeeze().T), axis=0)]\n",
    "  params_list += [x + (alpha,)]\n",
    "\n",
    "  xla._xla_callable.cache_clear()\n",
    "  del state, params, end_of_predict_state, prediction\n",
    "\n",
    "np.save(\"RK_gridsearch_error.npy\", np.array(sum_errors))\n",
    "np.save(\"RK_gridsearch_params.npy\", np.array(params_list))"
   ]
  }
 ],
 "metadata": {
  "accelerator": "GPU",
  "colab": {
   "collapsed_sections": [],
   "machine_shape": "hm",
   "name": "grid_search.ipynb",
   "provenance": []
  },
  "kernelspec": {
   "display_name": "Python 3 (ipykernel)",
   "language": "python",
   "name": "python3"
  },
  "language_info": {
   "codemirror_mode": {
    "name": "ipython",
    "version": 3
   },
   "file_extension": ".py",
   "mimetype": "text/x-python",
   "name": "python",
   "nbconvert_exporter": "python",
   "pygments_lexer": "ipython3",
   "version": "3.8.5"
  }
 },
 "nbformat": 4,
 "nbformat_minor": 5
}
